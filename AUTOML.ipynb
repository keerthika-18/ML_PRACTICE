{
 "cells": [
  {
   "cell_type": "code",
   "execution_count": 25,
   "id": "09373b99",
   "metadata": {},
   "outputs": [],
   "source": [
    "import numpy as np\n",
    "import pandas as pd\n"
   ]
  },
  {
   "cell_type": "code",
   "execution_count": 26,
   "id": "f5886823",
   "metadata": {},
   "outputs": [],
   "source": [
    "df=pd.read_csv('C:\\\\Users\\\\Keethika P\\\\Downloads\\\\df_final_features.csv\\\\df_final_features.csv')"
   ]
  },
  {
   "cell_type": "code",
   "execution_count": 27,
   "id": "34c83941",
   "metadata": {},
   "outputs": [
    {
     "data": {
      "text/html": [
       "<div>\n",
       "<style scoped>\n",
       "    .dataframe tbody tr th:only-of-type {\n",
       "        vertical-align: middle;\n",
       "    }\n",
       "\n",
       "    .dataframe tbody tr th {\n",
       "        vertical-align: top;\n",
       "    }\n",
       "\n",
       "    .dataframe thead th {\n",
       "        text-align: right;\n",
       "    }\n",
       "</style>\n",
       "<table border=\"1\" class=\"dataframe\">\n",
       "  <thead>\n",
       "    <tr style=\"text-align: right;\">\n",
       "      <th></th>\n",
       "      <th>Name</th>\n",
       "      <th>Sex</th>\n",
       "      <th>Age</th>\n",
       "      <th>Height</th>\n",
       "      <th>Weight</th>\n",
       "      <th>Team</th>\n",
       "      <th>Year</th>\n",
       "      <th>Season</th>\n",
       "      <th>Host_City</th>\n",
       "      <th>Host_Country</th>\n",
       "      <th>...</th>\n",
       "      <th>GDP_Per_Capita_Constant_LCU_Value</th>\n",
       "      <th>Cereal_yield_kg_per_hectare_Value</th>\n",
       "      <th>Military_expenditure_current_LCU_Value</th>\n",
       "      <th>Tax_revenue_current_LCU_Value</th>\n",
       "      <th>Expense_current_LCU_Value</th>\n",
       "      <th>Central_government_debt_total_current_LCU_Value</th>\n",
       "      <th>Representing_Host</th>\n",
       "      <th>Avg_Temp</th>\n",
       "      <th>Medal</th>\n",
       "      <th>Medal_Binary</th>\n",
       "    </tr>\n",
       "  </thead>\n",
       "  <tbody>\n",
       "    <tr>\n",
       "      <th>0</th>\n",
       "      <td>A Dijiang</td>\n",
       "      <td>M</td>\n",
       "      <td>24.0</td>\n",
       "      <td>180.0</td>\n",
       "      <td>80.0</td>\n",
       "      <td>China</td>\n",
       "      <td>1992</td>\n",
       "      <td>Summer</td>\n",
       "      <td>Barcelona</td>\n",
       "      <td>Spain</td>\n",
       "      <td>...</td>\n",
       "      <td>6875.676999</td>\n",
       "      <td>4362.3</td>\n",
       "      <td>6.849287e+10</td>\n",
       "      <td>1.605180e+12</td>\n",
       "      <td>7.161170e+12</td>\n",
       "      <td>4.396980e+12</td>\n",
       "      <td>0</td>\n",
       "      <td>6.95</td>\n",
       "      <td>0</td>\n",
       "      <td>0</td>\n",
       "    </tr>\n",
       "    <tr>\n",
       "      <th>1</th>\n",
       "      <td>A Lamusi</td>\n",
       "      <td>M</td>\n",
       "      <td>23.0</td>\n",
       "      <td>170.0</td>\n",
       "      <td>60.0</td>\n",
       "      <td>China</td>\n",
       "      <td>2012</td>\n",
       "      <td>Summer</td>\n",
       "      <td>London</td>\n",
       "      <td>United Kingdom</td>\n",
       "      <td>...</td>\n",
       "      <td>41274.127360</td>\n",
       "      <td>5825.2</td>\n",
       "      <td>9.935000e+11</td>\n",
       "      <td>5.524090e+12</td>\n",
       "      <td>7.161170e+12</td>\n",
       "      <td>3.974130e+13</td>\n",
       "      <td>0</td>\n",
       "      <td>6.95</td>\n",
       "      <td>0</td>\n",
       "      <td>0</td>\n",
       "    </tr>\n",
       "    <tr>\n",
       "      <th>2</th>\n",
       "      <td>Christine Jacoba Aaftink</td>\n",
       "      <td>F</td>\n",
       "      <td>21.0</td>\n",
       "      <td>185.0</td>\n",
       "      <td>82.0</td>\n",
       "      <td>Netherlands</td>\n",
       "      <td>1988</td>\n",
       "      <td>Winter</td>\n",
       "      <td>Calgary</td>\n",
       "      <td>Canada</td>\n",
       "      <td>...</td>\n",
       "      <td>24946.565910</td>\n",
       "      <td>6194.0</td>\n",
       "      <td>6.035300e+09</td>\n",
       "      <td>5.311044e+10</td>\n",
       "      <td>1.125100e+11</td>\n",
       "      <td>1.441520e+11</td>\n",
       "      <td>0</td>\n",
       "      <td>9.25</td>\n",
       "      <td>0</td>\n",
       "      <td>0</td>\n",
       "    </tr>\n",
       "    <tr>\n",
       "      <th>3</th>\n",
       "      <td>Christine Jacoba Aaftink</td>\n",
       "      <td>F</td>\n",
       "      <td>21.0</td>\n",
       "      <td>185.0</td>\n",
       "      <td>82.0</td>\n",
       "      <td>Netherlands</td>\n",
       "      <td>1988</td>\n",
       "      <td>Winter</td>\n",
       "      <td>Calgary</td>\n",
       "      <td>Canada</td>\n",
       "      <td>...</td>\n",
       "      <td>24946.565910</td>\n",
       "      <td>6194.0</td>\n",
       "      <td>6.035300e+09</td>\n",
       "      <td>5.311044e+10</td>\n",
       "      <td>1.125100e+11</td>\n",
       "      <td>1.441520e+11</td>\n",
       "      <td>0</td>\n",
       "      <td>9.25</td>\n",
       "      <td>0</td>\n",
       "      <td>0</td>\n",
       "    </tr>\n",
       "    <tr>\n",
       "      <th>4</th>\n",
       "      <td>Christine Jacoba Aaftink</td>\n",
       "      <td>F</td>\n",
       "      <td>25.0</td>\n",
       "      <td>185.0</td>\n",
       "      <td>82.0</td>\n",
       "      <td>Netherlands</td>\n",
       "      <td>1992</td>\n",
       "      <td>Winter</td>\n",
       "      <td>Albertville</td>\n",
       "      <td>France</td>\n",
       "      <td>...</td>\n",
       "      <td>27485.503400</td>\n",
       "      <td>7459.2</td>\n",
       "      <td>6.307500e+09</td>\n",
       "      <td>6.846182e+10</td>\n",
       "      <td>1.338420e+11</td>\n",
       "      <td>1.624580e+11</td>\n",
       "      <td>0</td>\n",
       "      <td>9.25</td>\n",
       "      <td>0</td>\n",
       "      <td>0</td>\n",
       "    </tr>\n",
       "  </tbody>\n",
       "</table>\n",
       "<p>5 rows × 22 columns</p>\n",
       "</div>"
      ],
      "text/plain": [
       "                       Name Sex   Age  Height  Weight         Team  Year  \\\n",
       "0                 A Dijiang   M  24.0   180.0    80.0        China  1992   \n",
       "1                  A Lamusi   M  23.0   170.0    60.0        China  2012   \n",
       "2  Christine Jacoba Aaftink   F  21.0   185.0    82.0  Netherlands  1988   \n",
       "3  Christine Jacoba Aaftink   F  21.0   185.0    82.0  Netherlands  1988   \n",
       "4  Christine Jacoba Aaftink   F  25.0   185.0    82.0  Netherlands  1992   \n",
       "\n",
       "   Season    Host_City    Host_Country  ... GDP_Per_Capita_Constant_LCU_Value  \\\n",
       "0  Summer    Barcelona           Spain  ...                       6875.676999   \n",
       "1  Summer       London  United Kingdom  ...                      41274.127360   \n",
       "2  Winter      Calgary          Canada  ...                      24946.565910   \n",
       "3  Winter      Calgary          Canada  ...                      24946.565910   \n",
       "4  Winter  Albertville          France  ...                      27485.503400   \n",
       "\n",
       "  Cereal_yield_kg_per_hectare_Value  Military_expenditure_current_LCU_Value  \\\n",
       "0                            4362.3                            6.849287e+10   \n",
       "1                            5825.2                            9.935000e+11   \n",
       "2                            6194.0                            6.035300e+09   \n",
       "3                            6194.0                            6.035300e+09   \n",
       "4                            7459.2                            6.307500e+09   \n",
       "\n",
       "   Tax_revenue_current_LCU_Value  Expense_current_LCU_Value  \\\n",
       "0                   1.605180e+12               7.161170e+12   \n",
       "1                   5.524090e+12               7.161170e+12   \n",
       "2                   5.311044e+10               1.125100e+11   \n",
       "3                   5.311044e+10               1.125100e+11   \n",
       "4                   6.846182e+10               1.338420e+11   \n",
       "\n",
       "   Central_government_debt_total_current_LCU_Value  Representing_Host  \\\n",
       "0                                     4.396980e+12                  0   \n",
       "1                                     3.974130e+13                  0   \n",
       "2                                     1.441520e+11                  0   \n",
       "3                                     1.441520e+11                  0   \n",
       "4                                     1.624580e+11                  0   \n",
       "\n",
       "   Avg_Temp  Medal Medal_Binary  \n",
       "0      6.95      0            0  \n",
       "1      6.95      0            0  \n",
       "2      9.25      0            0  \n",
       "3      9.25      0            0  \n",
       "4      9.25      0            0  \n",
       "\n",
       "[5 rows x 22 columns]"
      ]
     },
     "execution_count": 27,
     "metadata": {},
     "output_type": "execute_result"
    }
   ],
   "source": [
    "df.head()"
   ]
  },
  {
   "cell_type": "code",
   "execution_count": 28,
   "id": "2dfedd8d",
   "metadata": {},
   "outputs": [
    {
     "data": {
      "text/plain": [
       "Index(['Name', 'Sex', 'Age', 'Height', 'Weight', 'Team', 'Year', 'Season',\n",
       "       'Host_City', 'Host_Country', 'Sport', 'Event',\n",
       "       'GDP_Per_Capita_Constant_LCU_Value',\n",
       "       'Cereal_yield_kg_per_hectare_Value',\n",
       "       'Military_expenditure_current_LCU_Value',\n",
       "       'Tax_revenue_current_LCU_Value', 'Expense_current_LCU_Value',\n",
       "       'Central_government_debt_total_current_LCU_Value', 'Representing_Host',\n",
       "       'Avg_Temp', 'Medal', 'Medal_Binary'],\n",
       "      dtype='object')"
      ]
     },
     "execution_count": 28,
     "metadata": {},
     "output_type": "execute_result"
    }
   ],
   "source": [
    "df.columns"
   ]
  },
  {
   "cell_type": "code",
   "execution_count": 29,
   "id": "24e0a5c4",
   "metadata": {},
   "outputs": [
    {
     "data": {
      "text/plain": [
       "Name                                               0\n",
       "Sex                                                0\n",
       "Age                                                0\n",
       "Height                                             1\n",
       "Weight                                             1\n",
       "Team                                               0\n",
       "Year                                               0\n",
       "Season                                             0\n",
       "Host_City                                          0\n",
       "Host_Country                                       0\n",
       "Sport                                              0\n",
       "Event                                              0\n",
       "GDP_Per_Capita_Constant_LCU_Value                  0\n",
       "Cereal_yield_kg_per_hectare_Value                  0\n",
       "Military_expenditure_current_LCU_Value             0\n",
       "Tax_revenue_current_LCU_Value                      0\n",
       "Expense_current_LCU_Value                          0\n",
       "Central_government_debt_total_current_LCU_Value    0\n",
       "Representing_Host                                  0\n",
       "Avg_Temp                                           0\n",
       "Medal                                              0\n",
       "Medal_Binary                                       0\n",
       "dtype: int64"
      ]
     },
     "execution_count": 29,
     "metadata": {},
     "output_type": "execute_result"
    }
   ],
   "source": [
    "\n",
    "df.isnull().sum()"
   ]
  },
  {
   "cell_type": "code",
   "execution_count": 30,
   "id": "6de75d62",
   "metadata": {},
   "outputs": [],
   "source": [
    "df['Height']=df['Height'].fillna(0)"
   ]
  },
  {
   "cell_type": "code",
   "execution_count": 31,
   "id": "bf0a0f99",
   "metadata": {},
   "outputs": [],
   "source": [
    "df['Weight']=df['Weight'].fillna(0)"
   ]
  },
  {
   "cell_type": "code",
   "execution_count": 32,
   "id": "c937292b",
   "metadata": {},
   "outputs": [
    {
     "data": {
      "text/plain": [
       "Name                                               0\n",
       "Sex                                                0\n",
       "Age                                                0\n",
       "Height                                             0\n",
       "Weight                                             0\n",
       "Team                                               0\n",
       "Year                                               0\n",
       "Season                                             0\n",
       "Host_City                                          0\n",
       "Host_Country                                       0\n",
       "Sport                                              0\n",
       "Event                                              0\n",
       "GDP_Per_Capita_Constant_LCU_Value                  0\n",
       "Cereal_yield_kg_per_hectare_Value                  0\n",
       "Military_expenditure_current_LCU_Value             0\n",
       "Tax_revenue_current_LCU_Value                      0\n",
       "Expense_current_LCU_Value                          0\n",
       "Central_government_debt_total_current_LCU_Value    0\n",
       "Representing_Host                                  0\n",
       "Avg_Temp                                           0\n",
       "Medal                                              0\n",
       "Medal_Binary                                       0\n",
       "dtype: int64"
      ]
     },
     "execution_count": 32,
     "metadata": {},
     "output_type": "execute_result"
    }
   ],
   "source": [
    "df.isnull().sum()"
   ]
  },
  {
   "cell_type": "code",
   "execution_count": 33,
   "id": "99dab00f",
   "metadata": {},
   "outputs": [],
   "source": [
    "df=df.drop('Medal',axis=1)"
   ]
  },
  {
   "cell_type": "code",
   "execution_count": 34,
   "id": "fa3e6663",
   "metadata": {},
   "outputs": [],
   "source": [
    "X=df.drop('Medal_Binary' ,axis=1)\n",
    "y=df['Medal_Binary']"
   ]
  },
  {
   "cell_type": "code",
   "execution_count": 35,
   "id": "f3ab0e1a",
   "metadata": {},
   "outputs": [],
   "source": [
    "from sklearn.model_selection import train_test_split"
   ]
  },
  {
   "cell_type": "code",
   "execution_count": 36,
   "id": "fbd61471",
   "metadata": {},
   "outputs": [],
   "source": [
    "X_train,X_test,y_train,y_test=train_test_split(X,y,test_size=0.2)"
   ]
  },
  {
   "cell_type": "code",
   "execution_count": null,
   "id": "77b33524",
   "metadata": {},
   "outputs": [],
   "source": [
    "from "
   ]
  }
 ],
 "metadata": {
  "kernelspec": {
   "display_name": "Python 3 (ipykernel)",
   "language": "python",
   "name": "python3"
  },
  "language_info": {
   "codemirror_mode": {
    "name": "ipython",
    "version": 3
   },
   "file_extension": ".py",
   "mimetype": "text/x-python",
   "name": "python",
   "nbconvert_exporter": "python",
   "pygments_lexer": "ipython3",
   "version": "3.11.3"
  }
 },
 "nbformat": 4,
 "nbformat_minor": 5
}
